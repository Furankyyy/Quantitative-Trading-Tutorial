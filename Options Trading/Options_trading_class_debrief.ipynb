{
  "nbformat": 4,
  "nbformat_minor": 0,
  "metadata": {
    "colab": {
      "name": "Options trading class debrief.ipynb",
      "provenance": []
    },
    "kernelspec": {
      "name": "python3",
      "display_name": "Python 3"
    }
  },
  "cells": [
    {
      "cell_type": "code",
      "metadata": {
        "id": "03B7L0Nl5jtu"
      },
      "source": [
        "import scipy.stats as sts\r\n",
        "import numpy as np\r\n",
        "import matplotlib.pyplot as plt"
      ],
      "execution_count": null,
      "outputs": []
    },
    {
      "cell_type": "markdown",
      "metadata": {
        "id": "_UHRpLOt-o3_"
      },
      "source": [
        "$$\\mathop{\\mathbb{E}}[\\log{S_T}]=\\log{S_0}+r T - 1/2\\sigma^2T$$ and $$\\text{var}{[\\log{S_T}]}=\\sigma^2T$$"
      ]
    },
    {
      "cell_type": "code",
      "metadata": {
        "colab": {
          "base_uri": "https://localhost:8080/"
        },
        "id": "IyxS_XnM57rj",
        "outputId": "a848d6ef-7d71-4d26-f658-6aed1aa2fa45"
      },
      "source": [
        "class Simulation:\r\n",
        "    \r\n",
        "    def __init__(self, S_0, K, sigma, r, T):\r\n",
        "        self.S_0 = S_0\r\n",
        "        self.K = K\r\n",
        "        self.sigma = sigma\r\n",
        "        self.r = r\r\n",
        "        self.T = T\r\n",
        "        self.result = []\r\n",
        "        \r\n",
        "    def generate_price(self):\r\n",
        "        sd = self.sigma * self.T ** 0.5\r\n",
        "        mean = np.log(self.S_0) + self.r * self.T - 0.5 * (self.sigma**2) * self.T\r\n",
        "        #S_T = sts.lognorm.rvs(s=sd,scale=np.exp(mean))\r\n",
        "        S_T = np.random.lognormal(mean=mean,sigma=sd)\r\n",
        "        C_T = max(S_T-self.K,0)\r\n",
        "        C_0 = C_T * np.exp(-self.r*self.T)\r\n",
        "        return C_0\r\n",
        "\r\n",
        "    def simulate(self, n):\r\n",
        "        # Simulate n times.\r\n",
        "        for _ in range(n):\r\n",
        "            self.result.append(self.generate_price())\r\n",
        "        \r\n",
        "        return np.mean(self.result)\r\n",
        "\r\n",
        "S_0 = 129.87\r\n",
        "K = 135\r\n",
        "sigma = 0.2968\r\n",
        "r = 0.0134\r\n",
        "T = 35/365\r\n",
        "    \r\n",
        "MC = Simulation(S_0, K, sigma, r, T)\r\n",
        "result = MC.simulate(n = 5000)\r\n",
        "\r\n",
        "print(\"Option value from Monte Carlo:\", result)"
      ],
      "execution_count": null,
      "outputs": [
        {
          "output_type": "stream",
          "text": [
            "Option value from Monte Carlo: 2.7871619958757132\n"
          ],
          "name": "stdout"
        }
      ]
    },
    {
      "cell_type": "code",
      "metadata": {
        "colab": {
          "base_uri": "https://localhost:8080/"
        },
        "id": "CKYu9DSTElAs",
        "outputId": "c12698d5-e501-4c69-af21-e1db0aa8ac50"
      },
      "source": [
        "def BS_call(S_0,T,r,K,sigma):\r\n",
        "    ### Fill in the code below to calculate a call option price\r\n",
        "    d_1 = (np.log(S_0/K)+(r+((sigma**2)/2))*T)/(sigma*np.sqrt(T))\r\n",
        "    d_2 = d_1-sigma*np.sqrt(T)\r\n",
        "    C = S_0*sts.norm.cdf(d_1) - K*np.exp(-r*T)*sts.norm.cdf(d_2)\r\n",
        "    return C\r\n",
        "\r\n",
        "BS_call(S_0,T,r,K,sigma)"
      ],
      "execution_count": null,
      "outputs": [
        {
          "output_type": "execute_result",
          "data": {
            "text/plain": [
              "2.7696512095305508"
            ]
          },
          "metadata": {
            "tags": []
          },
          "execution_count": 35
        }
      ]
    },
    {
      "cell_type": "code",
      "metadata": {
        "colab": {
          "base_uri": "https://localhost:8080/",
          "height": 296
        },
        "id": "0DTGzfbVFAf-",
        "outputId": "fd68f002-702f-455d-be51-2c540478f1f4"
      },
      "source": [
        "S_0 = 129.87\r\n",
        "K = 135\r\n",
        "sigma = 0.2968\r\n",
        "r = 0.0134\r\n",
        "T = 35/365\r\n",
        "\r\n",
        "def delta(S,K,r,sigma,T):\r\n",
        "    d1 = (np.log(S/K)+(r+((sigma**2)/2))*T)/(sigma*np.sqrt(T))\r\n",
        "    return sts.norm.cdf(d1)\r\n",
        "\r\n",
        "apple_delta = delta(S_0,K,r,sigma,T)    \r\n",
        "    \r\n",
        "S = np.linspace(100,170,500)\r\n",
        "plt.plot(S, delta(S,K,r,sigma,T))\r\n",
        "plt.axvline(S_0,color='r',label='The Apple option')\r\n",
        "plt.axhline(apple_delta,color='r')\r\n",
        "plt.xlabel('Stock price')\r\n",
        "plt.ylabel('Delta')\r\n",
        "plt.legend()\r\n",
        "plt.show()\r\n",
        "print('Delta of the Apple option:', apple_delta)"
      ],
      "execution_count": null,
      "outputs": [
        {
          "output_type": "display_data",
          "data": {
            "image/png": "[encoded data removed]",
            "text/plain": [
              "<Figure size 432x288 with 1 Axes>"
            ]
          },
          "metadata": {
            "tags": [],
            "needs_background": "light"
          }
        },
        {
          "output_type": "stream",
          "text": [
            "Delta of the Apple option: 0.3588311775092397\n"
          ],
          "name": "stdout"
        }
      ]
    },
    {
      "cell_type": "code",
      "metadata": {
        "colab": {
          "base_uri": "https://localhost:8080/"
        },
        "id": "4OHYizKfrg2o",
        "outputId": "532e15d8-dc77-40ee-f640-5654e10ea4d5"
      },
      "source": [
        "\r\n",
        "S_0 = 129.87\r\n",
        "K = 135\r\n",
        "sigma = 0.2968\r\n",
        "r = 0.0134\r\n",
        "T = 35/365\r\n",
        "\r\n",
        "# I will give you the BS call option formula here\r\n",
        "def BS_call(S_0,T,r,K,sigma):\r\n",
        "    ### Fill in the code below to calculate a call option price\r\n",
        "    d_1 = (np.log(S_0/K)+(r+((sigma**2)/2))*T)/(sigma*np.sqrt(T))\r\n",
        "    d_2 = d_1-sigma*np.sqrt(T)\r\n",
        "    C = S_0*sts.norm.cdf(d_1) - K*np.exp(-r*T)*sts.norm.cdf(d_2)\r\n",
        "    return C\r\n",
        "\r\n",
        "## Suppose after 2 days, the stock price goes down to 125\r\n",
        "T_new = (35-2)/365\r\n",
        "S_new = 131\r\n",
        "\r\n",
        "BS_call(S_new,T_new,r,K,sigma)-2.769651209"
      ],
      "execution_count": null,
      "outputs": [
        {
          "output_type": "execute_result",
          "data": {
            "text/plain": [
              "0.28792063671960744"
            ]
          },
          "metadata": {
            "tags": []
          },
          "execution_count": 62
        }
      ]
    },
    {
      "cell_type": "code",
      "metadata": {
        "colab": {
          "base_uri": "https://localhost:8080/"
        },
        "id": "17iiL-lLtmHa",
        "outputId": "418db497-6918-459a-f7d1-1685b300e2f1"
      },
      "source": [
        "35.89 * 1.13"
      ],
      "execution_count": null,
      "outputs": [
        {
          "output_type": "execute_result",
          "data": {
            "text/plain": [
              "40.555699999999995"
            ]
          },
          "metadata": {
            "tags": []
          },
          "execution_count": 63
        }
      ]
    }
  ]
}