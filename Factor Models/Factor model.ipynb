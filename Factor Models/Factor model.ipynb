{
 "metadata": {
  "language_info": {
   "codemirror_mode": {
    "name": "ipython",
    "version": 3
   },
   "file_extension": ".py",
   "mimetype": "text/x-python",
   "name": "python",
   "nbconvert_exporter": "python",
   "pygments_lexer": "ipython3",
   "version": "3.6.1-final"
  },
  "orig_nbformat": 2,
  "kernelspec": {
   "name": "python3",
   "display_name": "Python 3.6.1 64-bit ('quant': conda)",
   "metadata": {
    "interpreter": {
     "hash": "58dc07a3a7b15a91d8f6d35b7d73335cfb2c01da22792050f91ddbc189091127"
    }
   }
  }
 },
 "nbformat": 4,
 "nbformat_minor": 2,
 "cells": [
  {
   "cell_type": "code",
   "execution_count": 1,
   "metadata": {},
   "outputs": [],
   "source": [
    "import pandas_datareader as pdr\n",
    "from pandas_datareader import data, wb\n",
    "from datetime import date\n",
    "import numpy as np\n",
    "import matplotlib.pyplot as plt\n",
    "import pandas as pd"
   ]
  },
  {
   "cell_type": "code",
   "execution_count": 7,
   "metadata": {},
   "outputs": [],
   "source": [
    "stocks = ['FB','KO','TSM','SFTBY','INTC','SNE','ET','CL','RYCEY','SIEGY','GE','FUJIY']"
   ]
  },
  {
   "cell_type": "code",
   "execution_count": 20,
   "metadata": {},
   "outputs": [],
   "source": [
    "def calc_beta(stock,benchmark):\n",
    "    stock_data = pdr.get_data_yahoo(stock,'2015-01-01','2019-01-01')\n",
    "    benchmark_data = pdr.get_data_yahoo(benchmark,'2015-01-01','2019-01-01')\n",
    "    stock_data = stock_data.resample('M').last()\n",
    "    benchmark_data = benchmark_data.resample('M').last()\n",
    "\n",
    "    data = pd.DataFrame({'stock close':stock_data['Adj Close'],'benchmark close':benchmark_data['Adj Close']}, index = stock_data.index)\n",
    "\n",
    "    data['y'] = data['stock close']/data['stock close'].shift(1)\n",
    "    data['X'] = data['benchmark close']/data['benchmark close'].shift(1)\n",
    "\n",
    "    data = data.dropna()\n",
    "\n",
    "    beta = np.cov(data['X'],data['y'])[0,1]/np.var(data['X'])\n",
    "    #beta, alpha = np.polyfit(data['X'],data['y'],deg=1)\n",
    "\n",
    "    return beta\n",
    "    "
   ]
  },
  {
   "cell_type": "code",
   "execution_count": 23,
   "metadata": {},
   "outputs": [
    {
     "output_type": "stream",
     "name": "stdout",
     "text": [
      "[('FUJIY', 0.3977890483546764), ('KO', 0.5259249746425118), ('GE', 0.5901880030106319), ('FB', 0.730276385875083), ('CL', 0.7366471722574207), ('INTC', 0.8023816896605757), ('TSM', 1.0312837778634172), ('RYCEY', 1.1042877806135607), ('SIEGY', 1.1947367088991536), ('SFTBY', 1.602913003453671), ('SNE', 1.7091685475315497), ('ET', 1.8548517956605863)]\n"
     ]
    }
   ],
   "source": [
    "betas = []\n",
    "for stock in stocks:\n",
    "    betas.append(calc_beta(stock,'^GSPC'))\n",
    "stock_beta = {stocks[i]:betas[i] for i in range(12)}\n",
    "beta_rank = sorted(stock_beta.items(), key=lambda item: item[1])\n",
    "print(beta_rank)"
   ]
  },
  {
   "cell_type": "code",
   "execution_count": 24,
   "metadata": {},
   "outputs": [],
   "source": [
    "bot = [x[0] for x in beta_rank[:3]]\n",
    "top = [x[0] for x in beta_rank[-3:]]"
   ]
  },
  {
   "cell_type": "code",
   "execution_count": 26,
   "metadata": {},
   "outputs": [],
   "source": [
    "def eval(stocks,benchmark):\n",
    "    returns = []\n",
    "    for stock in stocks:\n",
    "        stock_data = pdr.get_data_yahoo(stock,'2019-01-01','2021-01-01')\n",
    "        stock_return = np.log(stock_data['Adj Close'][-1]/stock_data['Adj Close'][0])\n",
    "        returns.append((stock,stock_return))\n",
    "    return returns\n",
    "\n",
    "benchmark_data = pdr.get_data_yahoo('^GSPC','2019-01-01','2021-01-01')\n",
    "benchmark_return = np.log(benchmark_data['Adj Close'][-1]/benchmark_data['Adj Close'][0])\n"
   ]
  },
  {
   "cell_type": "code",
   "execution_count": 27,
   "metadata": {},
   "outputs": [
    {
     "output_type": "stream",
     "name": "stdout",
     "text": [
      "High beta returns: [('SFTBY', 0.8569145740297363), ('SNE', 0.7300204624765328), ('ET', -0.542176868271763)]\nLow beta returns: [('FUJIY', 0.29965140898454795), ('KO', 0.22060543473819183), ('GE', 0.3421639401933908)]\nBenchmark returns: 0.4030784992843473\n"
     ]
    }
   ],
   "source": [
    "top_returns = eval(top,'^GSPC')\n",
    "bot_returns = eval(bot,'^GSPC')\n",
    "print('High beta returns:', top_returns)\n",
    "print('Low beta returns:', bot_returns)\n",
    "print('Benchmark returns:', benchmark_return)"
   ]
  }
 ]
}